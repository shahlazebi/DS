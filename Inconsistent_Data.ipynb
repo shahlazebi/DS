{
  "nbformat": 4,
  "nbformat_minor": 0,
  "metadata": {
    "colab": {
      "name": "Inconsistent_Data.ipynb",
      "provenance": [],
      "mount_file_id": "1UPSkT8I_IMYXRY8SOcpkP05qqcTiIyCL",
      "authorship_tag": "ABX9TyNBKvnDSa8QdJgVSLyXhaC3",
      "include_colab_link": true
    },
    "kernelspec": {
      "name": "python3",
      "display_name": "Python 3"
    },
    "language_info": {
      "name": "python"
    }
  },
  "cells": [
    {
      "cell_type": "markdown",
      "metadata": {
        "id": "view-in-github",
        "colab_type": "text"
      },
      "source": [
        "<a href=\"https://colab.research.google.com/github/shahlazebi/DS/blob/master/Inconsistent_Data.ipynb\" target=\"_parent\"><img src=\"https://colab.research.google.com/assets/colab-badge.svg\" alt=\"Open In Colab\"/></a>"
      ]
    },
    {
      "cell_type": "code",
      "metadata": {
        "id": "D26iIzJV3v3n"
      },
      "source": [
        "import pandas as pd\n",
        "import numpy as np"
      ],
      "execution_count": 35,
      "outputs": []
    },
    {
      "cell_type": "code",
      "metadata": {
        "id": "ktqi7rKP5t3n"
      },
      "source": [
        "import chardet"
      ],
      "execution_count": 36,
      "outputs": []
    },
    {
      "cell_type": "code",
      "metadata": {
        "colab": {
          "base_uri": "https://localhost:8080/",
          "height": 885
        },
        "id": "7Q3Lyzl951oY",
        "outputId": "9a435e05-46a1-4f94-d0b1-880bd88f961d"
      },
      "source": [
        "ds = pd.read_csv('/content/drive/MyDrive/Colab Notebooks/PakistanSuicideAttacks Ver 11 (30-November-2017).csv')"
      ],
      "execution_count": 37,
      "outputs": [
        {
          "output_type": "error",
          "ename": "UnicodeDecodeError",
          "evalue": "ignored",
          "traceback": [
            "\u001b[0;31m---------------------------------------------------------------------------\u001b[0m",
            "\u001b[0;31mUnicodeDecodeError\u001b[0m                        Traceback (most recent call last)",
            "\u001b[0;32mpandas/_libs/parsers.pyx\u001b[0m in \u001b[0;36mpandas._libs.parsers.TextReader._convert_tokens\u001b[0;34m()\u001b[0m\n",
            "\u001b[0;32mpandas/_libs/parsers.pyx\u001b[0m in \u001b[0;36mpandas._libs.parsers.TextReader._convert_with_dtype\u001b[0;34m()\u001b[0m\n",
            "\u001b[0;32mpandas/_libs/parsers.pyx\u001b[0m in \u001b[0;36mpandas._libs.parsers.TextReader._string_convert\u001b[0;34m()\u001b[0m\n",
            "\u001b[0;32mpandas/_libs/parsers.pyx\u001b[0m in \u001b[0;36mpandas._libs.parsers._string_box_utf8\u001b[0;34m()\u001b[0m\n",
            "\u001b[0;31mUnicodeDecodeError\u001b[0m: 'utf-8' codec can't decode byte 0xa0 in position 0: invalid start byte",
            "\nDuring handling of the above exception, another exception occurred:\n",
            "\u001b[0;31mUnicodeDecodeError\u001b[0m                        Traceback (most recent call last)",
            "\u001b[0;32m<ipython-input-37-447227095f4b>\u001b[0m in \u001b[0;36m<module>\u001b[0;34m()\u001b[0m\n\u001b[0;32m----> 1\u001b[0;31m \u001b[0mds\u001b[0m \u001b[0;34m=\u001b[0m \u001b[0mpd\u001b[0m\u001b[0;34m.\u001b[0m\u001b[0mread_csv\u001b[0m\u001b[0;34m(\u001b[0m\u001b[0;34m'/content/drive/MyDrive/Colab Notebooks/PakistanSuicideAttacks Ver 11 (30-November-2017).csv'\u001b[0m\u001b[0;34m)\u001b[0m\u001b[0;34m\u001b[0m\u001b[0;34m\u001b[0m\u001b[0m\n\u001b[0m",
            "\u001b[0;32m/usr/local/lib/python3.7/dist-packages/pandas/io/parsers.py\u001b[0m in \u001b[0;36mread_csv\u001b[0;34m(filepath_or_buffer, sep, delimiter, header, names, index_col, usecols, squeeze, prefix, mangle_dupe_cols, dtype, engine, converters, true_values, false_values, skipinitialspace, skiprows, skipfooter, nrows, na_values, keep_default_na, na_filter, verbose, skip_blank_lines, parse_dates, infer_datetime_format, keep_date_col, date_parser, dayfirst, cache_dates, iterator, chunksize, compression, thousands, decimal, lineterminator, quotechar, quoting, doublequote, escapechar, comment, encoding, dialect, error_bad_lines, warn_bad_lines, delim_whitespace, low_memory, memory_map, float_precision)\u001b[0m\n\u001b[1;32m    686\u001b[0m     )\n\u001b[1;32m    687\u001b[0m \u001b[0;34m\u001b[0m\u001b[0m\n\u001b[0;32m--> 688\u001b[0;31m     \u001b[0;32mreturn\u001b[0m \u001b[0m_read\u001b[0m\u001b[0;34m(\u001b[0m\u001b[0mfilepath_or_buffer\u001b[0m\u001b[0;34m,\u001b[0m \u001b[0mkwds\u001b[0m\u001b[0;34m)\u001b[0m\u001b[0;34m\u001b[0m\u001b[0;34m\u001b[0m\u001b[0m\n\u001b[0m\u001b[1;32m    689\u001b[0m \u001b[0;34m\u001b[0m\u001b[0m\n\u001b[1;32m    690\u001b[0m \u001b[0;34m\u001b[0m\u001b[0m\n",
            "\u001b[0;32m/usr/local/lib/python3.7/dist-packages/pandas/io/parsers.py\u001b[0m in \u001b[0;36m_read\u001b[0;34m(filepath_or_buffer, kwds)\u001b[0m\n\u001b[1;32m    458\u001b[0m \u001b[0;34m\u001b[0m\u001b[0m\n\u001b[1;32m    459\u001b[0m     \u001b[0;32mtry\u001b[0m\u001b[0;34m:\u001b[0m\u001b[0;34m\u001b[0m\u001b[0;34m\u001b[0m\u001b[0m\n\u001b[0;32m--> 460\u001b[0;31m         \u001b[0mdata\u001b[0m \u001b[0;34m=\u001b[0m \u001b[0mparser\u001b[0m\u001b[0;34m.\u001b[0m\u001b[0mread\u001b[0m\u001b[0;34m(\u001b[0m\u001b[0mnrows\u001b[0m\u001b[0;34m)\u001b[0m\u001b[0;34m\u001b[0m\u001b[0;34m\u001b[0m\u001b[0m\n\u001b[0m\u001b[1;32m    461\u001b[0m     \u001b[0;32mfinally\u001b[0m\u001b[0;34m:\u001b[0m\u001b[0;34m\u001b[0m\u001b[0;34m\u001b[0m\u001b[0m\n\u001b[1;32m    462\u001b[0m         \u001b[0mparser\u001b[0m\u001b[0;34m.\u001b[0m\u001b[0mclose\u001b[0m\u001b[0;34m(\u001b[0m\u001b[0;34m)\u001b[0m\u001b[0;34m\u001b[0m\u001b[0;34m\u001b[0m\u001b[0m\n",
            "\u001b[0;32m/usr/local/lib/python3.7/dist-packages/pandas/io/parsers.py\u001b[0m in \u001b[0;36mread\u001b[0;34m(self, nrows)\u001b[0m\n\u001b[1;32m   1196\u001b[0m     \u001b[0;32mdef\u001b[0m \u001b[0mread\u001b[0m\u001b[0;34m(\u001b[0m\u001b[0mself\u001b[0m\u001b[0;34m,\u001b[0m \u001b[0mnrows\u001b[0m\u001b[0;34m=\u001b[0m\u001b[0;32mNone\u001b[0m\u001b[0;34m)\u001b[0m\u001b[0;34m:\u001b[0m\u001b[0;34m\u001b[0m\u001b[0;34m\u001b[0m\u001b[0m\n\u001b[1;32m   1197\u001b[0m         \u001b[0mnrows\u001b[0m \u001b[0;34m=\u001b[0m \u001b[0m_validate_integer\u001b[0m\u001b[0;34m(\u001b[0m\u001b[0;34m\"nrows\"\u001b[0m\u001b[0;34m,\u001b[0m \u001b[0mnrows\u001b[0m\u001b[0;34m)\u001b[0m\u001b[0;34m\u001b[0m\u001b[0;34m\u001b[0m\u001b[0m\n\u001b[0;32m-> 1198\u001b[0;31m         \u001b[0mret\u001b[0m \u001b[0;34m=\u001b[0m \u001b[0mself\u001b[0m\u001b[0;34m.\u001b[0m\u001b[0m_engine\u001b[0m\u001b[0;34m.\u001b[0m\u001b[0mread\u001b[0m\u001b[0;34m(\u001b[0m\u001b[0mnrows\u001b[0m\u001b[0;34m)\u001b[0m\u001b[0;34m\u001b[0m\u001b[0;34m\u001b[0m\u001b[0m\n\u001b[0m\u001b[1;32m   1199\u001b[0m \u001b[0;34m\u001b[0m\u001b[0m\n\u001b[1;32m   1200\u001b[0m         \u001b[0;31m# May alter columns / col_dict\u001b[0m\u001b[0;34m\u001b[0m\u001b[0;34m\u001b[0m\u001b[0;34m\u001b[0m\u001b[0m\n",
            "\u001b[0;32m/usr/local/lib/python3.7/dist-packages/pandas/io/parsers.py\u001b[0m in \u001b[0;36mread\u001b[0;34m(self, nrows)\u001b[0m\n\u001b[1;32m   2155\u001b[0m     \u001b[0;32mdef\u001b[0m \u001b[0mread\u001b[0m\u001b[0;34m(\u001b[0m\u001b[0mself\u001b[0m\u001b[0;34m,\u001b[0m \u001b[0mnrows\u001b[0m\u001b[0;34m=\u001b[0m\u001b[0;32mNone\u001b[0m\u001b[0;34m)\u001b[0m\u001b[0;34m:\u001b[0m\u001b[0;34m\u001b[0m\u001b[0;34m\u001b[0m\u001b[0m\n\u001b[1;32m   2156\u001b[0m         \u001b[0;32mtry\u001b[0m\u001b[0;34m:\u001b[0m\u001b[0;34m\u001b[0m\u001b[0;34m\u001b[0m\u001b[0m\n\u001b[0;32m-> 2157\u001b[0;31m             \u001b[0mdata\u001b[0m \u001b[0;34m=\u001b[0m \u001b[0mself\u001b[0m\u001b[0;34m.\u001b[0m\u001b[0m_reader\u001b[0m\u001b[0;34m.\u001b[0m\u001b[0mread\u001b[0m\u001b[0;34m(\u001b[0m\u001b[0mnrows\u001b[0m\u001b[0;34m)\u001b[0m\u001b[0;34m\u001b[0m\u001b[0;34m\u001b[0m\u001b[0m\n\u001b[0m\u001b[1;32m   2158\u001b[0m         \u001b[0;32mexcept\u001b[0m \u001b[0mStopIteration\u001b[0m\u001b[0;34m:\u001b[0m\u001b[0;34m\u001b[0m\u001b[0;34m\u001b[0m\u001b[0m\n\u001b[1;32m   2159\u001b[0m             \u001b[0;32mif\u001b[0m \u001b[0mself\u001b[0m\u001b[0;34m.\u001b[0m\u001b[0m_first_chunk\u001b[0m\u001b[0;34m:\u001b[0m\u001b[0;34m\u001b[0m\u001b[0;34m\u001b[0m\u001b[0m\n",
            "\u001b[0;32mpandas/_libs/parsers.pyx\u001b[0m in \u001b[0;36mpandas._libs.parsers.TextReader.read\u001b[0;34m()\u001b[0m\n",
            "\u001b[0;32mpandas/_libs/parsers.pyx\u001b[0m in \u001b[0;36mpandas._libs.parsers.TextReader._read_low_memory\u001b[0;34m()\u001b[0m\n",
            "\u001b[0;32mpandas/_libs/parsers.pyx\u001b[0m in \u001b[0;36mpandas._libs.parsers.TextReader._read_rows\u001b[0;34m()\u001b[0m\n",
            "\u001b[0;32mpandas/_libs/parsers.pyx\u001b[0m in \u001b[0;36mpandas._libs.parsers.TextReader._convert_column_data\u001b[0;34m()\u001b[0m\n",
            "\u001b[0;32mpandas/_libs/parsers.pyx\u001b[0m in \u001b[0;36mpandas._libs.parsers.TextReader._convert_tokens\u001b[0;34m()\u001b[0m\n",
            "\u001b[0;32mpandas/_libs/parsers.pyx\u001b[0m in \u001b[0;36mpandas._libs.parsers.TextReader._convert_with_dtype\u001b[0;34m()\u001b[0m\n",
            "\u001b[0;32mpandas/_libs/parsers.pyx\u001b[0m in \u001b[0;36mpandas._libs.parsers.TextReader._string_convert\u001b[0;34m()\u001b[0m\n",
            "\u001b[0;32mpandas/_libs/parsers.pyx\u001b[0m in \u001b[0;36mpandas._libs.parsers._string_box_utf8\u001b[0;34m()\u001b[0m\n",
            "\u001b[0;31mUnicodeDecodeError\u001b[0m: 'utf-8' codec can't decode byte 0xa0 in position 0: invalid start byte"
          ]
        }
      ]
    },
    {
      "cell_type": "code",
      "metadata": {
        "id": "GNbq9FnR6Yq9"
      },
      "source": [
        "with open ('/content/drive/MyDrive/Colab Notebooks/PakistanSuicideAttacks Ver 11 (30-November-2017).csv', 'rb') as rawdata:\n",
        "  result = chardet.detect(rawdata.read(100000))\n",
        "\n",
        "print(result)"
      ],
      "execution_count": null,
      "outputs": []
    },
    {
      "cell_type": "code",
      "metadata": {
        "id": "pmUoWRKK64KA"
      },
      "source": [
        "# UTF-8: everything in python is encoded in UTF-8 \n",
        "# if we come across with this kind of error unicodedecodeerror \n",
        "# we need to check out the in which encoding the data is"
      ],
      "execution_count": null,
      "outputs": []
    },
    {
      "cell_type": "code",
      "metadata": {
        "id": "EPdd6hSn7sfc"
      },
      "source": [
        "ds = pd.read_csv('/content/drive/MyDrive/Colab Notebooks/PakistanSuicideAttacks Ver 11 (30-November-2017).csv', encoding='Windows-1252')"
      ],
      "execution_count": null,
      "outputs": []
    },
    {
      "cell_type": "code",
      "metadata": {
        "id": "WSfj4cj89NLq"
      },
      "source": [
        "ds.head()"
      ],
      "execution_count": null,
      "outputs": []
    },
    {
      "cell_type": "code",
      "metadata": {
        "id": "DA16sVvR9pna"
      },
      "source": [
        "ds['City']"
      ],
      "execution_count": null,
      "outputs": []
    },
    {
      "cell_type": "code",
      "metadata": {
        "colab": {
          "base_uri": "https://localhost:8080/"
        },
        "id": "Jz9451cd9wH3",
        "outputId": "397a0989-78df-41bf-acca-67a71ee8bf18"
      },
      "source": [
        "cities = ds['City'].unique()\n",
        "cities\n",
        "cities.sort()\n",
        "cities"
      ],
      "execution_count": 40,
      "outputs": [
        {
          "output_type": "execute_result",
          "data": {
            "text/plain": [
              "array(['attock', 'bajaur agency', 'bannu', 'bhakkar', 'buner', 'chakwal',\n",
              "       'chaman', 'charsadda', 'd. i khan', 'd.g khan', 'd.i khan',\n",
              "       'dara adam khel', 'fateh jang', 'ghallanai, mohmand agency',\n",
              "       'gujrat', 'hangu', 'haripur', 'hayatabad', 'islamabad',\n",
              "       'jacobabad', 'karachi', 'karak', 'khanewal', 'khuzdar',\n",
              "       'khyber agency', 'kohat', 'kuram agency', 'kurram agency',\n",
              "       'lahore', 'lakki marwat', 'lasbela', 'lower dir', 'malakand',\n",
              "       'mansehra', 'mardan', 'mohmand agency',\n",
              "       'mosal kor, mohmand agency', 'multan', 'muzaffarabad',\n",
              "       'north waziristan', 'nowshehra', 'orakzai agency', 'peshawar',\n",
              "       'pishin', 'poonch', 'quetta', 'rawalpindi', 'sargodha',\n",
              "       'sehwan town', 'shabqadar-charsadda', 'shangla', 'shikarpur',\n",
              "       'sialkot', 'south waziristan', 'sudhanoti', 'sukkur', 'swabi',\n",
              "       'swat', 'taftan', 'tangi, charsadda district', 'tank', 'taunsa',\n",
              "       'tirah valley', 'totalai', 'upper dir', 'wagah', 'zhob'],\n",
              "      dtype=object)"
            ]
          },
          "metadata": {
            "tags": []
          },
          "execution_count": 40
        }
      ]
    },
    {
      "cell_type": "code",
      "metadata": {
        "id": "ONY67cfh-yJo"
      },
      "source": [
        "ds['City'] = ds['City'].str.lower()\n",
        "ds['City'] = ds['City'].str.strip()"
      ],
      "execution_count": 38,
      "outputs": []
    },
    {
      "cell_type": "code",
      "metadata": {
        "colab": {
          "base_uri": "https://localhost:8080/"
        },
        "id": "KxEBwHIK-yhl",
        "outputId": "94f5d19b-fbf0-468e-b6fc-536b437365cb"
      },
      "source": [
        "cities = ds['City'].unique()\n",
        "cities\n",
        "cities.sort()\n",
        "cities"
      ],
      "execution_count": 41,
      "outputs": [
        {
          "output_type": "execute_result",
          "data": {
            "text/plain": [
              "array(['attock', 'bajaur agency', 'bannu', 'bhakkar', 'buner', 'chakwal',\n",
              "       'chaman', 'charsadda', 'd. i khan', 'd.g khan', 'd.i khan',\n",
              "       'dara adam khel', 'fateh jang', 'ghallanai, mohmand agency',\n",
              "       'gujrat', 'hangu', 'haripur', 'hayatabad', 'islamabad',\n",
              "       'jacobabad', 'karachi', 'karak', 'khanewal', 'khuzdar',\n",
              "       'khyber agency', 'kohat', 'kuram agency', 'kurram agency',\n",
              "       'lahore', 'lakki marwat', 'lasbela', 'lower dir', 'malakand',\n",
              "       'mansehra', 'mardan', 'mohmand agency',\n",
              "       'mosal kor, mohmand agency', 'multan', 'muzaffarabad',\n",
              "       'north waziristan', 'nowshehra', 'orakzai agency', 'peshawar',\n",
              "       'pishin', 'poonch', 'quetta', 'rawalpindi', 'sargodha',\n",
              "       'sehwan town', 'shabqadar-charsadda', 'shangla', 'shikarpur',\n",
              "       'sialkot', 'south waziristan', 'sudhanoti', 'sukkur', 'swabi',\n",
              "       'swat', 'taftan', 'tangi, charsadda district', 'tank', 'taunsa',\n",
              "       'tirah valley', 'totalai', 'upper dir', 'wagah', 'zhob'],\n",
              "      dtype=object)"
            ]
          },
          "metadata": {
            "tags": []
          },
          "execution_count": 41
        }
      ]
    },
    {
      "cell_type": "code",
      "metadata": {
        "colab": {
          "base_uri": "https://localhost:8080/",
          "height": 328
        },
        "id": "uB9RIJDn-SA7",
        "outputId": "2803e043-7d21-4ea0-c39c-26015e185a09"
      },
      "source": [
        "import fuzzywuzzy\n",
        "from fuzzywuzzy import process"
      ],
      "execution_count": 42,
      "outputs": [
        {
          "output_type": "error",
          "ename": "ModuleNotFoundError",
          "evalue": "ignored",
          "traceback": [
            "\u001b[0;31m---------------------------------------------------------------------------\u001b[0m",
            "\u001b[0;31mModuleNotFoundError\u001b[0m                       Traceback (most recent call last)",
            "\u001b[0;32m<ipython-input-42-12d11456c970>\u001b[0m in \u001b[0;36m<module>\u001b[0;34m()\u001b[0m\n\u001b[0;32m----> 1\u001b[0;31m \u001b[0;32mimport\u001b[0m \u001b[0mfuzzywuzzy\u001b[0m\u001b[0;34m\u001b[0m\u001b[0;34m\u001b[0m\u001b[0m\n\u001b[0m\u001b[1;32m      2\u001b[0m \u001b[0;32mfrom\u001b[0m \u001b[0mfuzzywuzzy\u001b[0m \u001b[0;32mimport\u001b[0m \u001b[0mprocess\u001b[0m\u001b[0;34m\u001b[0m\u001b[0;34m\u001b[0m\u001b[0m\n",
            "\u001b[0;31mModuleNotFoundError\u001b[0m: No module named 'fuzzywuzzy'",
            "",
            "\u001b[0;31m---------------------------------------------------------------------------\u001b[0;32m\nNOTE: If your import is failing due to a missing package, you can\nmanually install dependencies using either !pip or !apt.\n\nTo view examples of installing some common dependencies, click the\n\"Open Examples\" button below.\n\u001b[0;31m---------------------------------------------------------------------------\u001b[0m\n"
          ]
        }
      ]
    },
    {
      "cell_type": "code",
      "metadata": {
        "colab": {
          "base_uri": "https://localhost:8080/"
        },
        "id": "aRgdTA6YCAv_",
        "outputId": "01ce3b17-b53c-4b8a-8e31-471a1692a09f"
      },
      "source": [
        "!pip install fuzzywuzzy"
      ],
      "execution_count": 43,
      "outputs": [
        {
          "output_type": "stream",
          "text": [
            "Collecting fuzzywuzzy\n",
            "  Downloading https://files.pythonhosted.org/packages/43/ff/74f23998ad2f93b945c0309f825be92e04e0348e062026998b5eefef4c33/fuzzywuzzy-0.18.0-py2.py3-none-any.whl\n",
            "Installing collected packages: fuzzywuzzy\n",
            "Successfully installed fuzzywuzzy-0.18.0\n"
          ],
          "name": "stdout"
        }
      ]
    },
    {
      "cell_type": "code",
      "metadata": {
        "colab": {
          "base_uri": "https://localhost:8080/"
        },
        "id": "MnVpU4edCRow",
        "outputId": "2465b400-4e8a-4b07-aea3-e97b611ffca4"
      },
      "source": [
        "import fuzzywuzzy\n",
        "from fuzzywuzzy import process"
      ],
      "execution_count": 44,
      "outputs": [
        {
          "output_type": "stream",
          "text": [
            "/usr/local/lib/python3.7/dist-packages/fuzzywuzzy/fuzz.py:11: UserWarning: Using slow pure-python SequenceMatcher. Install python-Levenshtein to remove this warning\n",
            "  warnings.warn('Using slow pure-python SequenceMatcher. Install python-Levenshtein to remove this warning')\n"
          ],
          "name": "stderr"
        }
      ]
    },
    {
      "cell_type": "code",
      "metadata": {
        "colab": {
          "base_uri": "https://localhost:8080/"
        },
        "id": "Wa9o6mErCT4h",
        "outputId": "e4458df0-888b-42cc-c1a8-3d4eaa93aaac"
      },
      "source": [
        "fuzzywuzzy.process.extract('d.i khan',cities, scorer=fuzzywuzzy.fuzz.token_set_ratio)"
      ],
      "execution_count": 47,
      "outputs": [
        {
          "output_type": "execute_result",
          "data": {
            "text/plain": [
              "[('d. i khan', 100),\n",
              " ('d.i khan', 100),\n",
              " ('d.g khan', 88),\n",
              " ('khanewal', 50),\n",
              " ('sudhanoti', 47)]"
            ]
          },
          "metadata": {
            "tags": []
          },
          "execution_count": 47
        }
      ]
    },
    {
      "cell_type": "code",
      "metadata": {
        "colab": {
          "base_uri": "https://localhost:8080/"
        },
        "id": "Anr5PBvHDWMr",
        "outputId": "10a27283-8a0b-465b-8a61-d699bb591471"
      },
      "source": [
        "matches = fuzzywuzzy.process.extract('d.i khan',cities, limit=10, scorer=fuzzywuzzy.fuzz.token_set_ratio)\n",
        "matches"
      ],
      "execution_count": 48,
      "outputs": [
        {
          "output_type": "execute_result",
          "data": {
            "text/plain": [
              "[('d. i khan', 100),\n",
              " ('d.i khan', 100),\n",
              " ('d.g khan', 88),\n",
              " ('khanewal', 50),\n",
              " ('sudhanoti', 47),\n",
              " ('hangu', 46),\n",
              " ('kohat', 46),\n",
              " ('dara adam khel', 45),\n",
              " ('chaman', 43),\n",
              " ('mardan', 43)]"
            ]
          },
          "metadata": {
            "tags": []
          },
          "execution_count": 48
        }
      ]
    },
    {
      "cell_type": "code",
      "metadata": {
        "id": "4mmLZqodDl-M"
      },
      "source": [
        "def replace_matching_string(df, column, string_to_match, min_ratio=90):\n",
        "  strings = df[column].unique()\n",
        "  matches = fuzzywuzzy.process.extract(string_to_match,strings, limit=10, scorer=fuzzywuzzy.fuzz.token_set_ratio)\n",
        "  close_matches = [ matches [0]for matches in matches if matches[1] >=min_ratio ]\n",
        "\n",
        "#  get the close matches in our data frame\n",
        "\n",
        "  rows_with_matches = df[column].isin(close_matches)\n",
        "\n",
        "  df.loc[rows_with_matches] = string_to_match\n",
        "\n",
        "  print('Done')\n",
        "  "
      ],
      "execution_count": 50,
      "outputs": []
    },
    {
      "cell_type": "code",
      "metadata": {
        "colab": {
          "base_uri": "https://localhost:8080/"
        },
        "id": "9hJsgSkHGrij",
        "outputId": "d8870e9b-5d25-4756-f398-d946931bbf5a"
      },
      "source": [
        "replace_matching_string(df=ds, column='City', string_to_match='d.i khan')\n",
        "\n",
        "# replace_matching_string(df=ds, column='City', string_to_match='d.i khan', min_ratio=85)\n"
      ],
      "execution_count": 51,
      "outputs": [
        {
          "output_type": "stream",
          "text": [
            "Done\n"
          ],
          "name": "stdout"
        }
      ]
    },
    {
      "cell_type": "code",
      "metadata": {
        "colab": {
          "base_uri": "https://localhost:8080/"
        },
        "id": "9UANr1pDHO4u",
        "outputId": "4afd34e5-5f9c-4058-ae3d-5a61b1c96455"
      },
      "source": [
        "cities = ds['City'].unique()\n",
        "cities.sort()\n",
        "cities"
      ],
      "execution_count": 52,
      "outputs": [
        {
          "output_type": "execute_result",
          "data": {
            "text/plain": [
              "array(['attock', 'bajaur agency', 'bannu', 'bhakkar', 'buner', 'chakwal',\n",
              "       'chaman', 'charsadda', 'd.g khan', 'd.i khan', 'dara adam khel',\n",
              "       'fateh jang', 'ghallanai, mohmand agency', 'gujrat', 'hangu',\n",
              "       'haripur', 'hayatabad', 'islamabad', 'jacobabad', 'karachi',\n",
              "       'karak', 'khanewal', 'khuzdar', 'khyber agency', 'kohat',\n",
              "       'kuram agency', 'kurram agency', 'lahore', 'lakki marwat',\n",
              "       'lasbela', 'lower dir', 'malakand', 'mansehra', 'mardan',\n",
              "       'mohmand agency', 'mosal kor, mohmand agency', 'multan',\n",
              "       'muzaffarabad', 'north waziristan', 'nowshehra', 'orakzai agency',\n",
              "       'peshawar', 'pishin', 'poonch', 'quetta', 'rawalpindi', 'sargodha',\n",
              "       'sehwan town', 'shabqadar-charsadda', 'shangla', 'shikarpur',\n",
              "       'sialkot', 'south waziristan', 'sudhanoti', 'sukkur', 'swabi',\n",
              "       'swat', 'taftan', 'tangi, charsadda district', 'tank', 'taunsa',\n",
              "       'tirah valley', 'totalai', 'upper dir', 'wagah', 'zhob'],\n",
              "      dtype=object)"
            ]
          },
          "metadata": {
            "tags": []
          },
          "execution_count": 52
        }
      ]
    }
  ]
}